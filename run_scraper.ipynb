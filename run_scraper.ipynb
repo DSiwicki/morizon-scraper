{
 "cells": [
  {
   "cell_type": "code",
   "execution_count": 1,
   "metadata": {},
   "outputs": [],
   "source": [
    "import pandas as pd\n",
    "\n",
    "from morizon_scraper import *"
   ]
  },
  {
   "cell_type": "code",
   "execution_count": null,
   "metadata": {},
   "outputs": [],
   "source": []
  },
  {
   "cell_type": "code",
   "execution_count": 2,
   "metadata": {},
   "outputs": [],
   "source": [
    "driver = full_driver()"
   ]
  },
  {
   "cell_type": "code",
   "execution_count": null,
   "metadata": {},
   "outputs": [],
   "source": []
  },
  {
   "cell_type": "code",
   "execution_count": null,
   "metadata": {},
   "outputs": [],
   "source": [
    "get_type_trns(driver)"
   ]
  },
  {
   "cell_type": "code",
   "execution_count": null,
   "metadata": {},
   "outputs": [],
   "source": []
  },
  {
   "cell_type": "code",
   "execution_count": null,
   "metadata": {},
   "outputs": [],
   "source": [
    "districts = ['mokotow','bialoleka','srodmiescie','praga-poludnie','wola','ursynow',\n",
    "             'bemowo','ochota','bielany','wilanow','zoliborz','ursus','praga-polnoc',\n",
    "             'wawer','targowek','wlochy','rembertow','wesola']"
   ]
  },
  {
   "cell_type": "code",
   "execution_count": null,
   "metadata": {},
   "outputs": [],
   "source": []
  },
  {
   "cell_type": "code",
   "execution_count": 3,
   "metadata": {},
   "outputs": [
    {
     "name": "stdout",
     "output_type": "stream",
     "text": [
      "https://www.morizon.pl/mieszkania/warszawa/wola/\n",
      "https://www.morizon.pl/mieszkania/warszawa/wola/?page=2\n"
     ]
    }
   ],
   "source": [
    "links = get_links(driver, city = 'warszawa', district = 'wola', stop = 3)\n",
    "links_df = pd.DataFrame(links)\n",
    "links_df.columns = ['dt', 'url', 'title', 'pub_dt', 'price', 'currency', 'rooms', 'area', 'floor', 'description']"
   ]
  },
  {
   "cell_type": "code",
   "execution_count": 4,
   "metadata": {},
   "outputs": [
    {
     "data": {
      "text/html": [
       "<div>\n",
       "<style scoped>\n",
       "    .dataframe tbody tr th:only-of-type {\n",
       "        vertical-align: middle;\n",
       "    }\n",
       "\n",
       "    .dataframe tbody tr th {\n",
       "        vertical-align: top;\n",
       "    }\n",
       "\n",
       "    .dataframe thead th {\n",
       "        text-align: right;\n",
       "    }\n",
       "</style>\n",
       "<table border=\"1\" class=\"dataframe\">\n",
       "  <thead>\n",
       "    <tr style=\"text-align: right;\">\n",
       "      <th></th>\n",
       "      <th>dt</th>\n",
       "      <th>url</th>\n",
       "      <th>title</th>\n",
       "      <th>pub_dt</th>\n",
       "      <th>price</th>\n",
       "      <th>currency</th>\n",
       "      <th>rooms</th>\n",
       "      <th>area</th>\n",
       "      <th>floor</th>\n",
       "      <th>description</th>\n",
       "    </tr>\n",
       "  </thead>\n",
       "  <tbody>\n",
       "    <tr>\n",
       "      <th>0</th>\n",
       "      <td>2020-12-14 19:44:12.371634</td>\n",
       "      <td>https://www.morizon.pl/oferta/sprzedaz-mieszka...</td>\n",
       "      <td>Warszawa, Wola, ul. Kasprzaka</td>\n",
       "      <td>11-12-2020</td>\n",
       "      <td></td>\n",
       "      <td>PLN</td>\n",
       "      <td>2 pokoje</td>\n",
       "      <td>46 m²</td>\n",
       "      <td>piętro 16/24</td>\n",
       "      <td>Lokal zarezerowowany. Sprawdź dostępność innyc...</td>\n",
       "    </tr>\n",
       "    <tr>\n",
       "      <th>1</th>\n",
       "      <td>2020-12-14 19:44:12.374028</td>\n",
       "      <td>https://www.morizon.pl/oferta/sprzedaz-mieszka...</td>\n",
       "      <td>Warszawa, Wola, ul. Kasprzaka</td>\n",
       "      <td>11-12-2020</td>\n",
       "      <td></td>\n",
       "      <td>PLN</td>\n",
       "      <td>4 pokoje</td>\n",
       "      <td>82 m²</td>\n",
       "      <td>piętro 21/24</td>\n",
       "      <td>Osiedle na Woli to kompleks budynków wchodzący...</td>\n",
       "    </tr>\n",
       "    <tr>\n",
       "      <th>2</th>\n",
       "      <td>2020-12-14 19:44:12.376775</td>\n",
       "      <td>https://www.morizon.pl/oferta/sprzedaz-mieszka...</td>\n",
       "      <td>Warszawa, Wola, ul. Kasprzaka</td>\n",
       "      <td>11-12-2020</td>\n",
       "      <td></td>\n",
       "      <td>PLN</td>\n",
       "      <td>1 pokój</td>\n",
       "      <td>37 m²</td>\n",
       "      <td>piętro 21/24</td>\n",
       "      <td>Lokal zarezerowowany. Sprawdź dostępność innyc...</td>\n",
       "    </tr>\n",
       "    <tr>\n",
       "      <th>3</th>\n",
       "      <td>2020-12-14 19:44:12.379348</td>\n",
       "      <td>https://www.morizon.pl/oferta/sprzedaz-mieszka...</td>\n",
       "      <td>Warszawa, Wola, Jana Olbrachta</td>\n",
       "      <td>30-10-2020</td>\n",
       "      <td>510000.00</td>\n",
       "      <td>PLN</td>\n",
       "      <td>3 pokoje</td>\n",
       "      <td>51 m²</td>\n",
       "      <td>piętro 3/3</td>\n",
       "      <td>Trzypokojowe mieszkanie na warszawskim Ulrycho...</td>\n",
       "    </tr>\n",
       "    <tr>\n",
       "      <th>4</th>\n",
       "      <td>2020-12-14 19:44:12.381770</td>\n",
       "      <td>https://www.morizon.pl/oferta/sprzedaz-mieszka...</td>\n",
       "      <td>Warszawa, Wola, ul. Kasprzaka</td>\n",
       "      <td>12-12-2020</td>\n",
       "      <td></td>\n",
       "      <td>PLN</td>\n",
       "      <td>1 pokój</td>\n",
       "      <td>26 m²</td>\n",
       "      <td>piętro 10/24</td>\n",
       "      <td>Lokal zarezerowowany. Sprawdź dostępność innyc...</td>\n",
       "    </tr>\n",
       "  </tbody>\n",
       "</table>\n",
       "</div>"
      ],
      "text/plain": [
       "                          dt  \\\n",
       "0 2020-12-14 19:44:12.371634   \n",
       "1 2020-12-14 19:44:12.374028   \n",
       "2 2020-12-14 19:44:12.376775   \n",
       "3 2020-12-14 19:44:12.379348   \n",
       "4 2020-12-14 19:44:12.381770   \n",
       "\n",
       "                                                 url  \\\n",
       "0  https://www.morizon.pl/oferta/sprzedaz-mieszka...   \n",
       "1  https://www.morizon.pl/oferta/sprzedaz-mieszka...   \n",
       "2  https://www.morizon.pl/oferta/sprzedaz-mieszka...   \n",
       "3  https://www.morizon.pl/oferta/sprzedaz-mieszka...   \n",
       "4  https://www.morizon.pl/oferta/sprzedaz-mieszka...   \n",
       "\n",
       "                             title       pub_dt      price currency     rooms  \\\n",
       "0   Warszawa, Wola, ul. Kasprzaka   11-12-2020                  PLN  2 pokoje   \n",
       "1   Warszawa, Wola, ul. Kasprzaka   11-12-2020                  PLN  4 pokoje   \n",
       "2   Warszawa, Wola, ul. Kasprzaka   11-12-2020                  PLN   1 pokój   \n",
       "3  Warszawa, Wola, Jana Olbrachta   30-10-2020   510000.00      PLN  3 pokoje   \n",
       "4   Warszawa, Wola, ul. Kasprzaka   12-12-2020                  PLN   1 pokój   \n",
       "\n",
       "    area         floor                                        description  \n",
       "0  46 m²  piętro 16/24  Lokal zarezerowowany. Sprawdź dostępność innyc...  \n",
       "1  82 m²  piętro 21/24  Osiedle na Woli to kompleks budynków wchodzący...  \n",
       "2  37 m²  piętro 21/24  Lokal zarezerowowany. Sprawdź dostępność innyc...  \n",
       "3  51 m²    piętro 3/3  Trzypokojowe mieszkanie na warszawskim Ulrycho...  \n",
       "4  26 m²  piętro 10/24  Lokal zarezerowowany. Sprawdź dostępność innyc...  "
      ]
     },
     "execution_count": 4,
     "metadata": {},
     "output_type": "execute_result"
    }
   ],
   "source": [
    "links_df.head()"
   ]
  },
  {
   "cell_type": "code",
   "execution_count": 5,
   "metadata": {},
   "outputs": [
    {
     "data": {
      "text/plain": [
       "(70, 10)"
      ]
     },
     "execution_count": 5,
     "metadata": {},
     "output_type": "execute_result"
    }
   ],
   "source": [
    "links_df.shape"
   ]
  },
  {
   "cell_type": "code",
   "execution_count": 6,
   "metadata": {
    "scrolled": true
   },
   "outputs": [
    {
     "data": {
      "text/plain": [
       "['https://www.morizon.pl/oferta/sprzedaz-mieszkanie-warszawa-wola-kasprzaka-45m2-mzn2035238111',\n",
       " 'https://www.morizon.pl/oferta/sprzedaz-mieszkanie-warszawa-wola-kasprzaka-82m2-mzn2035237804',\n",
       " 'https://www.morizon.pl/oferta/sprzedaz-mieszkanie-warszawa-wola-kasprzaka-37m2-mzn2035237802',\n",
       " 'https://www.morizon.pl/oferta/sprzedaz-mieszkanie-warszawa-wola-jana-olbrachta-51m2-mzn2037507736',\n",
       " 'https://www.morizon.pl/oferta/sprzedaz-mieszkanie-warszawa-wola-kasprzaka-26m2-mzn2035243601',\n",
       " 'https://www.morizon.pl/oferta/sprzedaz-mieszkanie-warszawa-wola-kasprzaka-45m2-mzn2035243602',\n",
       " 'https://www.morizon.pl/oferta/sprzedaz-mieszkanie-warszawa-wola-kasprzaka-79m2-mzn2035237908',\n",
       " 'https://www.morizon.pl/oferta/sprzedaz-mieszkanie-warszawa-wola-62m2-mzn2037787459',\n",
       " 'https://www.morizon.pl/oferta/sprzedaz-mieszkanie-warszawa-wola-fort-wola-67m2-mzn2034551576',\n",
       " 'https://www.morizon.pl/oferta/sprzedaz-mieszkanie-warszawa-wola-fort-wola-31m2-mzn2035441607']"
      ]
     },
     "execution_count": 6,
     "metadata": {},
     "output_type": "execute_result"
    }
   ],
   "source": [
    "list(links_df.url[:10])"
   ]
  },
  {
   "cell_type": "code",
   "execution_count": null,
   "metadata": {},
   "outputs": [],
   "source": []
  },
  {
   "cell_type": "code",
   "execution_count": null,
   "metadata": {},
   "outputs": [],
   "source": [
    "offers = get_offers(driver, list(links_df.url))"
   ]
  },
  {
   "cell_type": "code",
   "execution_count": null,
   "metadata": {},
   "outputs": [],
   "source": [
    "offers_df = pd.DataFrame(offers)\n",
    "offers_df.head()"
   ]
  },
  {
   "cell_type": "code",
   "execution_count": null,
   "metadata": {},
   "outputs": [],
   "source": []
  }
 ],
 "metadata": {
  "kernelspec": {
   "display_name": "Python 3",
   "language": "python",
   "name": "python3"
  },
  "language_info": {
   "codemirror_mode": {
    "name": "ipython",
    "version": 3
   },
   "file_extension": ".py",
   "mimetype": "text/x-python",
   "name": "python",
   "nbconvert_exporter": "python",
   "pygments_lexer": "ipython3",
   "version": "3.7.2"
  }
 },
 "nbformat": 4,
 "nbformat_minor": 2
}
