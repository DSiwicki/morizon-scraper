{
 "cells": [
  {
   "cell_type": "code",
   "execution_count": 1,
   "metadata": {},
   "outputs": [],
   "source": [
    "import pandas as pd\n",
    "\n",
    "from morizon_scraper import *"
   ]
  },
  {
   "cell_type": "code",
   "execution_count": null,
   "metadata": {},
   "outputs": [],
   "source": []
  },
  {
   "cell_type": "code",
   "execution_count": 2,
   "metadata": {},
   "outputs": [],
   "source": [
    "driver = full_driver()"
   ]
  },
  {
   "cell_type": "code",
   "execution_count": null,
   "metadata": {},
   "outputs": [],
   "source": []
  },
  {
   "cell_type": "code",
   "execution_count": 3,
   "metadata": {},
   "outputs": [
    {
     "name": "stdout",
     "output_type": "stream",
     "text": [
      "Available property types: \n",
      " ['mieszkania', 'domy', 'komercyjne', 'dzialki', 'garaze', 'pokoje', 'nieruchomosci'] \n",
      " Default property type is: mieszkania \n",
      "\n",
      "Available transaction types: \n",
      " ['sprzedaz', 'wynajem'] \n",
      " Default transaction type is: sprzedaz\n"
     ]
    }
   ],
   "source": [
    "get_type_trns(driver)"
   ]
  },
  {
   "cell_type": "code",
   "execution_count": 7,
   "metadata": {
    "scrolled": true
   },
   "outputs": [
    {
     "name": "stdout",
     "output_type": "stream",
     "text": [
      "https://www.morizon.pl/mieszkania/warszawa/mokotow/\n",
      "https://www.morizon.pl/mieszkania/warszawa/bialoleka/\n",
      "https://www.morizon.pl/mieszkania/warszawa/srodmiescie/\n",
      "https://www.morizon.pl/mieszkania/warszawa/praga-poludnie/\n",
      "https://www.morizon.pl/mieszkania/warszawa/wola/\n",
      "https://www.morizon.pl/mieszkania/warszawa/ursynow/\n",
      "https://www.morizon.pl/mieszkania/warszawa/bemowo/\n",
      "https://www.morizon.pl/mieszkania/warszawa/ochota/\n",
      "https://www.morizon.pl/mieszkania/warszawa/bielany/\n",
      "https://www.morizon.pl/mieszkania/warszawa/wilanow/\n",
      "https://www.morizon.pl/mieszkania/warszawa/zoliborz/\n",
      "https://www.morizon.pl/mieszkania/warszawa/ursus/\n",
      "https://www.morizon.pl/mieszkania/warszawa/praga-polnoc/\n",
      "https://www.morizon.pl/mieszkania/warszawa/wawer/\n",
      "https://www.morizon.pl/mieszkania/warszawa/targowek/\n",
      "https://www.morizon.pl/mieszkania/warszawa/wlochy/\n",
      "https://www.morizon.pl/mieszkania/warszawa/rembertow/\n",
      "https://www.morizon.pl/mieszkania/warszawa/wesola/\n"
     ]
    },
    {
     "data": {
      "text/html": [
       "<div>\n",
       "<style scoped>\n",
       "    .dataframe tbody tr th:only-of-type {\n",
       "        vertical-align: middle;\n",
       "    }\n",
       "\n",
       "    .dataframe tbody tr th {\n",
       "        vertical-align: top;\n",
       "    }\n",
       "\n",
       "    .dataframe thead th {\n",
       "        text-align: right;\n",
       "    }\n",
       "</style>\n",
       "<table border=\"1\" class=\"dataframe\">\n",
       "  <thead>\n",
       "    <tr style=\"text-align: right;\">\n",
       "      <th></th>\n",
       "      <th>dt</th>\n",
       "      <th>url</th>\n",
       "      <th>title</th>\n",
       "      <th>pub_dt</th>\n",
       "      <th>price</th>\n",
       "      <th>currency</th>\n",
       "      <th>rooms</th>\n",
       "      <th>area</th>\n",
       "      <th>floor</th>\n",
       "      <th>description</th>\n",
       "    </tr>\n",
       "  </thead>\n",
       "  <tbody>\n",
       "    <tr>\n",
       "      <th>0</th>\n",
       "      <td>2020-12-16 17:40:20.800090</td>\n",
       "      <td>https://www.morizon.pl/oferta/sprzedaz-mieszka...</td>\n",
       "      <td>Warszawa, Mokotów, Białej Floty</td>\n",
       "      <td>13-12-2020</td>\n",
       "      <td>1750000.00</td>\n",
       "      <td>PLN</td>\n",
       "      <td>4 pokoje</td>\n",
       "      <td>120 m²</td>\n",
       "      <td>piętro 6/6</td>\n",
       "      <td>Otoczony zielenią, wyjątkowy apartament na now...</td>\n",
       "    </tr>\n",
       "    <tr>\n",
       "      <th>1</th>\n",
       "      <td>2020-12-16 17:40:20.802412</td>\n",
       "      <td>https://www.morizon.pl/oferta/sprzedaz-mieszka...</td>\n",
       "      <td>Warszawa, Mokotów, Bukowińska</td>\n",
       "      <td>29-11-2020</td>\n",
       "      <td>1014200.00</td>\n",
       "      <td>PLN</td>\n",
       "      <td>3 pokoje</td>\n",
       "      <td>91 m²</td>\n",
       "      <td>piętro 12/17</td>\n",
       "      <td>DO WPROWADZENIA OD ZARAZ - KLUCZE DO APERTAMEN...</td>\n",
       "    </tr>\n",
       "    <tr>\n",
       "      <th>2</th>\n",
       "      <td>2020-12-16 17:40:20.804721</td>\n",
       "      <td>https://www.morizon.pl/oferta/sprzedaz-mieszka...</td>\n",
       "      <td>Warszawa, Stary Mokotów, Wiktorska</td>\n",
       "      <td>14-12-2020</td>\n",
       "      <td>1200000.00</td>\n",
       "      <td>PLN</td>\n",
       "      <td>4 pokoje</td>\n",
       "      <td>96 m²</td>\n",
       "      <td>piętro 5/10</td>\n",
       "      <td>Do sprzedania czteropokojowe mieszkanie o powi...</td>\n",
       "    </tr>\n",
       "    <tr>\n",
       "      <th>3</th>\n",
       "      <td>2020-12-16 17:40:20.806911</td>\n",
       "      <td>https://www.morizon.pl/oferta/sprzedaz-mieszka...</td>\n",
       "      <td>Warszawa, Mokotów, Śniardwy</td>\n",
       "      <td>05-11-2020</td>\n",
       "      <td>499000.00</td>\n",
       "      <td>PLN</td>\n",
       "      <td>3 pokoje</td>\n",
       "      <td>47 m²</td>\n",
       "      <td>piętro 2/4</td>\n",
       "      <td>przestronne, mieszkanie na drugim piętrze w bl...</td>\n",
       "    </tr>\n",
       "    <tr>\n",
       "      <th>4</th>\n",
       "      <td>2020-12-16 17:40:20.809148</td>\n",
       "      <td>https://www.morizon.pl/oferta/sprzedaz-mieszka...</td>\n",
       "      <td>Warszawa, Czerniaków, Bartycka</td>\n",
       "      <td>09-11-2020</td>\n",
       "      <td>499000.00</td>\n",
       "      <td>PLN</td>\n",
       "      <td>2 pokoje</td>\n",
       "      <td>47 m²</td>\n",
       "      <td>piętro 1/6</td>\n",
       "      <td>Ciche, dwupokojowe mieszkanie na Mokotowie o p...</td>\n",
       "    </tr>\n",
       "  </tbody>\n",
       "</table>\n",
       "</div>"
      ],
      "text/plain": [
       "                          dt  \\\n",
       "0 2020-12-16 17:40:20.800090   \n",
       "1 2020-12-16 17:40:20.802412   \n",
       "2 2020-12-16 17:40:20.804721   \n",
       "3 2020-12-16 17:40:20.806911   \n",
       "4 2020-12-16 17:40:20.809148   \n",
       "\n",
       "                                                 url  \\\n",
       "0  https://www.morizon.pl/oferta/sprzedaz-mieszka...   \n",
       "1  https://www.morizon.pl/oferta/sprzedaz-mieszka...   \n",
       "2  https://www.morizon.pl/oferta/sprzedaz-mieszka...   \n",
       "3  https://www.morizon.pl/oferta/sprzedaz-mieszka...   \n",
       "4  https://www.morizon.pl/oferta/sprzedaz-mieszka...   \n",
       "\n",
       "                                 title       pub_dt       price currency  \\\n",
       "0     Warszawa, Mokotów, Białej Floty   13-12-2020   1750000.00      PLN   \n",
       "1       Warszawa, Mokotów, Bukowińska   29-11-2020   1014200.00      PLN   \n",
       "2  Warszawa, Stary Mokotów, Wiktorska   14-12-2020   1200000.00      PLN   \n",
       "3         Warszawa, Mokotów, Śniardwy   05-11-2020    499000.00      PLN   \n",
       "4      Warszawa, Czerniaków, Bartycka   09-11-2020    499000.00      PLN   \n",
       "\n",
       "      rooms    area         floor  \\\n",
       "0  4 pokoje  120 m²    piętro 6/6   \n",
       "1  3 pokoje   91 m²  piętro 12/17   \n",
       "2  4 pokoje   96 m²   piętro 5/10   \n",
       "3  3 pokoje   47 m²    piętro 2/4   \n",
       "4  2 pokoje   47 m²    piętro 1/6   \n",
       "\n",
       "                                         description  \n",
       "0  Otoczony zielenią, wyjątkowy apartament na now...  \n",
       "1  DO WPROWADZENIA OD ZARAZ - KLUCZE DO APERTAMEN...  \n",
       "2  Do sprzedania czteropokojowe mieszkanie o powi...  \n",
       "3  przestronne, mieszkanie na drugim piętrze w bl...  \n",
       "4  Ciche, dwupokojowe mieszkanie na Mokotowie o p...  "
      ]
     },
     "execution_count": 7,
     "metadata": {},
     "output_type": "execute_result"
    }
   ],
   "source": [
    "districts = ['mokotow','bialoleka','srodmiescie','praga-poludnie','wola','ursynow',\n",
    "             'bemowo','ochota','bielany','wilanow','zoliborz','ursus','praga-polnoc',\n",
    "             'wawer','targowek','wlochy','rembertow','wesola']\n",
    "all_links = []\n",
    "\n",
    "\n",
    "\n",
    "for district in districts:\n",
    "    \n",
    "    tmp = get_links(driver, city = 'warszawa', district = district, stop = 2)\n",
    "    \n",
    "    all_links = all_links + tmp\n",
    "    \n",
    "df = pd.DataFrame(all_links)\n",
    "df.columns = ['dt', 'url', 'title', 'pub_dt', 'price', 'currency', 'rooms', 'area', 'floor', 'description']\n",
    "df.head()"
   ]
  },
  {
   "cell_type": "code",
   "execution_count": 8,
   "metadata": {},
   "outputs": [
    {
     "data": {
      "text/plain": [
       "(630, 10)"
      ]
     },
     "execution_count": 8,
     "metadata": {},
     "output_type": "execute_result"
    }
   ],
   "source": [
    "df.shape"
   ]
  },
  {
   "cell_type": "code",
   "execution_count": null,
   "metadata": {
    "scrolled": true
   },
   "outputs": [
    {
     "name": "stdout",
     "output_type": "stream",
     "text": [
      "1 https://www.morizon.pl/oferta/sprzedaz-mieszkanie-warszawa-mokotow-bialej-floty-120m2-mzn2037136434\n",
      "2 https://www.morizon.pl/oferta/sprzedaz-mieszkanie-warszawa-mokotow-bukowinska-90m2-mzn2037735961\n",
      "3 https://www.morizon.pl/oferta/sprzedaz-mieszkanie-warszawa-mokotow-wiktorska-96m2-mzn2037833634\n",
      "4 https://www.morizon.pl/oferta/sprzedaz-mieszkanie-warszawa-mokotow-sniardwy-47m2-mzn2037560584\n",
      "5 https://www.morizon.pl/oferta/sprzedaz-mieszkanie-warszawa-mokotow-bartycka-47m2-mzn2037589200\n",
      "6 https://www.morizon.pl/oferta/sprzedaz-mieszkanie-warszawa-mokotow-podchorazych-60m2-mzn2037803055\n",
      "7 https://www.morizon.pl/oferta/sprzedaz-mieszkanie-warszawa-mokotow-bukowinska-90m2-mzn2037690461\n",
      "8 https://www.morizon.pl/oferta/sprzedaz-mieszkanie-warszawa-mokotow-ksawerow-298m2-mzn2036657378\n",
      "9 https://www.morizon.pl/oferta/sprzedaz-mieszkanie-warszawa-mokotow-jana-pawla-woronicza-155m2-mzn2037123794\n",
      "10 https://www.morizon.pl/oferta/sprzedaz-mieszkanie-warszawa-mokotow-jana-pawla-woronicza-105m2-mzn2037744644\n",
      "11 https://www.morizon.pl/oferta/sprzedaz-mieszkanie-warszawa-mokotow-aleja-wyscigowa-50m2-mzn2037795219\n",
      "12 https://www.morizon.pl/oferta/sprzedaz-mieszkanie-warszawa-mokotow-lotnikow-55m2-mzn2037796570\n",
      "13 https://www.morizon.pl/oferta/sprzedaz-mieszkanie-warszawa-mokotow-podchorazych-30m2-mzn2037795711\n"
     ]
    }
   ],
   "source": [
    "offers = get_offers(driver, list(df.url))"
   ]
  },
  {
   "cell_type": "code",
   "execution_count": null,
   "metadata": {},
   "outputs": [],
   "source": [
    "offers_df = pd.DataFrame(offers)\n",
    "offers_df.head()"
   ]
  },
  {
   "cell_type": "code",
   "execution_count": null,
   "metadata": {},
   "outputs": [],
   "source": [
    "offers_df.shape"
   ]
  },
  {
   "cell_type": "code",
   "execution_count": null,
   "metadata": {},
   "outputs": [],
   "source": [
    "#offers_df.to_csv(\"respo/estates_\" + str(datetime()) + \".csv\")"
   ]
  }
 ],
 "metadata": {
  "kernelspec": {
   "display_name": "Python 3",
   "language": "python",
   "name": "python3"
  },
  "language_info": {
   "codemirror_mode": {
    "name": "ipython",
    "version": 3
   },
   "file_extension": ".py",
   "mimetype": "text/x-python",
   "name": "python",
   "nbconvert_exporter": "python",
   "pygments_lexer": "ipython3",
   "version": "3.7.2"
  }
 },
 "nbformat": 4,
 "nbformat_minor": 2
}
