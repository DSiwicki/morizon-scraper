{
 "cells": [
  {
   "cell_type": "code",
   "execution_count": 44,
   "metadata": {},
   "outputs": [],
   "source": [
    "from common_scraping import sleep_r, full_driver, csv_dir_common\n",
    "from selenium.common.exceptions import TimeoutException, NoSuchElementException\n",
    "import pandas as pd\n",
    "import pickle\n",
    "from selenium import webdriver\n",
    "from selenium.webdriver.common.action_chains import ActionChains\n",
    "from selenium.webdriver.chrome.options import Options\n",
    "from selenium.webdriver.common.keys import Keys\n",
    "from selenium.webdriver.common.by import By\n",
    "import numpy as np\n",
    "import datetime"
   ]
  },
  {
   "cell_type": "code",
   "execution_count": 92,
   "metadata": {},
   "outputs": [],
   "source": [
    "driver_loc = '' # place your chromedriver here\n",
    "driver = webdriver.Chrome(driver_loc, chrome_options=Options())\n"
   ]
  },
  {
   "cell_type": "code",
   "execution_count": 5,
   "metadata": {
    "collapsed": true
   },
   "outputs": [],
   "source": []
  },
  {
   "cell_type": "code",
   "execution_count": 230,
   "metadata": {
    "collapsed": true
   },
   "outputs": [],
   "source": [
    "def estates_links(pages_number):\n",
    "    \n",
    "    \n",
    "    offers_links = []\n",
    "    \n",
    "    for p in range(0, pages_number):\n",
    "        \n",
    "        sleep_r('m')\n",
    "\n",
    "        offers_all = driver.find_elements_by_xpath('//section/div/div/div/div/section/header/a[@class=\"property_link\"]')\n",
    "    \n",
    "\n",
    "        for offer in offers_all[:-1]:\n",
    "        \n",
    "            offer_html = offer.get_attribute('href')\n",
    "    \n",
    "\n",
    "#        print(len(offers_all), offer_html)\n",
    "    \n",
    "        \n",
    "            offers_links.append(offer_html)\n",
    "    \n",
    "        \n",
    "        sleep_r('m')\n",
    "        pd.DataFrame(offers_links).to_csv('offers_links.pkl')\n",
    "        sleep_r('m')\n",
    "        \n",
    "        next_page = driver.find_element_by_xpath('//a[@class=\"mz-pagination-number__btn mz-pagination-number__btn--next\"]')\n",
    "        driver.get(next_page.get_attribute('href'))\n",
    "    \n",
    "        print (len(offers_links))\n",
    "\n",
    "    return offers_links\n",
    "\n"
   ]
  },
  {
   "cell_type": "code",
   "execution_count": null,
   "metadata": {
    "collapsed": true
   },
   "outputs": [],
   "source": []
  },
  {
   "cell_type": "code",
   "execution_count": null,
   "metadata": {
    "collapsed": true
   },
   "outputs": [],
   "source": []
  },
  {
   "cell_type": "code",
   "execution_count": 4,
   "metadata": {},
   "outputs": [],
   "source": [
    "def estates_links(districts, main_path):\n",
    "    \n",
    "    offers_links = []\n",
    "    \n",
    "    for district in districts:\n",
    "        \n",
    "        check_value = True\n",
    "        \n",
    "        sleep_r('m')\n",
    "        path = main_path + district\n",
    "        driver.get(path)\n",
    "        \n",
    "        while check_value:\n",
    "            \n",
    "            offers_all = driver.find_elements_by_xpath('//section/div/div/div/div/section/header/a[@class=\"property_link\"]')\n",
    "\n",
    "            for offer in offers_all[:-1]:\n",
    "                \n",
    "                offer_html = offer.get_attribute('href')\n",
    "                offers_links.append(offer_html)\n",
    "                \n",
    "            sleep_r('m')\n",
    "            pd.DataFrame(offers_links).to_csv('offers_links_.pkl')\n",
    "            sleep_r('m')\n",
    "            \n",
    "            \n",
    "            \n",
    "            try:\n",
    "                next_page = driver.find_element_by_xpath('//a[@class=\"mz-pagination-number__btn mz-pagination-number__btn--next\"]')\n",
    "                driver.get(next_page.get_attribute('href'))\n",
    "            except:\n",
    "                check_value = False\n",
    "                continue\n",
    "        \n",
    "        print(district,':',len(offers_links))\n",
    "    \n",
    "    return offers_links"
   ]
  },
  {
   "cell_type": "code",
   "execution_count": null,
   "metadata": {
    "collapsed": true
   },
   "outputs": [],
   "source": []
  },
  {
   "cell_type": "code",
   "execution_count": null,
   "metadata": {
    "collapsed": true
   },
   "outputs": [],
   "source": []
  },
  {
   "cell_type": "code",
   "execution_count": 6,
   "metadata": {},
   "outputs": [],
   "source": [
    "# started at 5:16 19_01"
   ]
  },
  {
   "cell_type": "code",
   "execution_count": 5,
   "metadata": {},
   "outputs": [
    {
     "name": "stdout",
     "output_type": "stream",
     "text": [
      "mokotow : 7000\n",
      "bialoleka : 10464\n",
      "srodmiescie : 14176\n",
      "praga-poludnie : 17182\n",
      "wola : 20056\n",
      "ursynow : 22414\n",
      "bemowo : 24207\n",
      "ochota : 25725\n",
      "bielany : 27230\n",
      "wilanow : 28491\n",
      "zoliborz : 29790\n",
      "ursus : 30965\n",
      "praga-polnoc : 31953\n",
      "wawer : 32629\n",
      "targowek : 33246\n",
      "wlochy : 33942\n",
      "rembertow : 34128\n",
      "wesola : 34274\n"
     ]
    }
   ],
   "source": [
    "main_path = 'https://www.morizon.pl/mieszkania/warszawa/'\n",
    "\n",
    "districts = ['mokotow','bialoleka','srodmiescie','praga-poludnie','wola','ursynow',\n",
    "             'bemowo','ochota','bielany','wilanow','zoliborz','ursus','praga-polnoc',\n",
    "             'wawer','targowek','wlochy','rembertow','wesola']\n",
    "\n",
    "property_htmls = estates_links(districts, main_path)"
   ]
  },
  {
   "cell_type": "code",
   "execution_count": null,
   "metadata": {
    "collapsed": true
   },
   "outputs": [],
   "source": []
  },
  {
   "cell_type": "code",
   "execution_count": 7,
   "metadata": {},
   "outputs": [
    {
     "data": {
      "text/plain": [
       "34274"
      ]
     },
     "execution_count": 7,
     "metadata": {},
     "output_type": "execute_result"
    }
   ],
   "source": [
    "len(property_htmls)"
   ]
  },
  {
   "cell_type": "code",
   "execution_count": 25,
   "metadata": {},
   "outputs": [
    {
     "data": {
      "text/plain": [
       "34650"
      ]
     },
     "execution_count": 25,
     "metadata": {},
     "output_type": "execute_result"
    }
   ],
   "source": [
    "len(property_htmls)"
   ]
  },
  {
   "cell_type": "code",
   "execution_count": null,
   "metadata": {
    "collapsed": true
   },
   "outputs": [],
   "source": []
  },
  {
   "cell_type": "code",
   "execution_count": 51,
   "metadata": {},
   "outputs": [],
   "source": [
    "def get_property_data(paths):\n",
    "    \n",
    "    properties_data = []\n",
    "    \n",
    "    for i, path in enumerate(paths):\n",
    "        \n",
    "        sleep_r('m')\n",
    "        driver.get(path)\n",
    "        try:\n",
    "            title_top = driver.find_element_by_xpath('//section[@class=\"summaryTop\"]/div/div/h1/strong').text\n",
    "        except:\n",
    "            title_top = ''\n",
    "        \n",
    "        try:\n",
    "            price_top = driver.find_element_by_xpath('//ul[@class=\"list-unstyled list-inline paramIcons\"]/li[@class=\"paramIconPrice\"]/em').text\n",
    "        except:\n",
    "            price_top = ''\n",
    "            \n",
    "        try:\n",
    "            price_M2 = driver.find_element_by_xpath('//ul[@class=\"list-unstyled list-inline paramIcons\"]/li[@class=\"paramIconPriceM2\"]/em').text\n",
    "        except:\n",
    "            price_M2 = ''\n",
    "            \n",
    "        try:\n",
    "            area_top = driver.find_element_by_xpath('//ul[@class=\"list-unstyled list-inline paramIcons\"]/li[@class=\"paramIconLivingArea\"]/em').text\n",
    "        except:\n",
    "            area_top = ''\n",
    "         \n",
    "        try:\n",
    "            rooms_top = driver.find_element_by_xpath('//ul[@class=\"list-unstyled list-inline paramIcons\"]/li[@class=\"paramIconNumberOfRooms\"\"]/em')\n",
    "        except:\n",
    "            rooms_top = ''\n",
    "        try:\n",
    "            script = driver.find_element_by_xpath('//section[@class=\"propertyContent\"]/script[@type=\"text/javascript\"]').get_attribute('innerHTML')\n",
    "            script = script.split(\"__layer.push\")[1].split(\";\\nwindow[\\'layerIsPushed\\']\")[0]\n",
    "        except:\n",
    "            script = ''\n",
    "        try:\n",
    "            table = driver.find_element_by_xpath('//section[@class=\"params clearfix\"]').text\n",
    "            table = table.split('\\n')\n",
    "        except:\n",
    "            table = ''\n",
    "        \n",
    "        try:\n",
    "            description = driver.find_element_by_xpath('//section[@class=\"descriptionContent\"]').text\n",
    "        except:\n",
    "            description = ''\n",
    "            \n",
    "        try:\n",
    "            address = driver.find_element_by_xpath('//*[@id=\"property-map\"]')\n",
    "            lat = address.get_attribute('data-lat')\n",
    "            long = address.get_attribute('data-lng')\n",
    "            \n",
    "        except:\n",
    "            lat = '-'\n",
    "            long = '-'\n",
    "\n",
    "        properties_data.append([path, title_top, price_top, price_M2, area_top, rooms_top, script, table, description, lat, long])\n",
    "        \n",
    "        if i % 150 == 0:\n",
    "            print(i, datetime.datetime.now())\n",
    "            \n",
    "        \n",
    "    pd.DataFrame(properties_data).to_csv('properties_data.csv')\n",
    "    pd.DataFrame(properties_data).to_pickle('properties_data.pkl')    \n",
    "    return properties_data\n"
   ]
  },
  {
   "cell_type": "code",
   "execution_count": 110,
   "metadata": {
    "scrolled": true
   },
   "outputs": [
    {
     "name": "stdout",
     "output_type": "stream",
     "text": [
      "0 2019-01-20 12:10:53.990307\n",
      "150 2019-01-20 12:18:23.483233\n",
      "300 2019-01-20 12:25:38.781906\n",
      "450 2019-01-20 12:33:30.806957\n",
      "600 2019-01-20 12:43:53.423554\n",
      "750 2019-01-20 12:55:34.352833\n",
      "900 2019-01-20 13:06:15.938791\n",
      "1050 2019-01-20 13:17:10.196886\n",
      "1200 2019-01-20 13:28:10.193591\n",
      "1350 2019-01-20 13:39:18.034535\n",
      "1500 2019-01-20 13:50:08.014994\n",
      "1650 2019-01-20 14:00:14.869927\n",
      "1800 2019-01-20 14:10:15.195213\n",
      "1950 2019-01-20 14:20:13.270540\n",
      "2100 2019-01-20 14:29:58.582908\n",
      "2250 2019-01-20 14:39:59.070802\n",
      "2400 2019-01-20 14:50:01.563064\n",
      "2550 2019-01-20 15:00:00.272416\n",
      "2700 2019-01-20 15:10:15.714377\n",
      "2850 2019-01-20 15:21:25.014833\n",
      "3000 2019-01-20 15:31:52.621406\n",
      "3150 2019-01-20 15:42:11.532140\n",
      "3300 2019-01-20 15:53:39.610054\n",
      "3450 2019-01-20 16:06:14.835923\n",
      "3600 2019-01-20 16:16:43.272982\n",
      "3750 2019-01-20 16:26:55.083001\n",
      "3900 2019-01-20 16:37:38.666063\n",
      "4050 2019-01-20 16:48:47.896466\n",
      "4200 2019-01-20 16:59:13.432925\n",
      "4350 2019-01-20 17:10:15.110087\n",
      "4500 2019-01-20 17:20:53.645843\n",
      "4650 2019-01-20 17:30:58.232536\n",
      "4800 2019-01-20 17:41:00.417632\n",
      "4950 2019-01-20 17:50:09.540847\n",
      "5100 2019-01-20 18:00:01.137074\n",
      "5250 2019-01-20 18:08:33.024019\n",
      "5400 2019-01-20 18:15:54.573117\n",
      "5550 2019-01-20 18:23:48.518839\n",
      "5700 2019-01-20 18:35:33.380644\n",
      "5850 2019-01-20 18:43:12.785184\n",
      "6000 2019-01-20 18:51:56.340793\n",
      "6150 2019-01-20 18:59:43.960300\n",
      "6300 2019-01-20 19:06:49.997525\n",
      "6450 2019-01-20 19:13:52.763196\n",
      "6600 2019-01-20 19:20:49.668391\n",
      "6750 2019-01-20 19:28:15.292412\n",
      "6900 2019-01-20 19:35:34.838994\n",
      "7050 2019-01-20 19:43:03.024946\n",
      "7200 2019-01-20 19:50:23.137101\n",
      "7350 2019-01-20 19:57:37.882889\n",
      "7500 2019-01-20 20:04:50.457291\n",
      "7650 2019-01-20 20:12:08.196137\n",
      "7800 2019-01-20 20:19:22.305333\n",
      "7950 2019-01-20 20:26:25.651708\n",
      "8100 2019-01-20 20:33:48.797568\n",
      "8250 2019-01-20 20:41:16.107212\n",
      "8400 2019-01-20 20:48:33.593944\n",
      "8550 2019-01-20 20:55:42.120549\n",
      "8700 2019-01-20 21:03:53.631213\n",
      "8850 2019-01-20 21:11:02.394291\n",
      "9000 2019-01-20 21:18:18.594303\n",
      "9150 2019-01-20 21:25:33.419293\n",
      "9300 2019-01-20 21:32:41.828968\n",
      "9450 2019-01-20 21:39:39.939870\n",
      "9600 2019-01-20 21:46:45.583943\n",
      "9750 2019-01-20 21:53:47.164486\n",
      "9900 2019-01-20 22:00:50.509210\n",
      "10050 2019-01-20 22:08:10.433031\n",
      "10200 2019-01-20 22:16:40.245993\n",
      "10350 2019-01-20 22:23:49.133640\n",
      "10500 2019-01-20 22:30:56.219973\n",
      "10650 2019-01-20 22:38:13.163887\n",
      "10800 2019-01-20 22:45:32.481954\n",
      "10950 2019-01-20 22:53:16.775914\n",
      "11100 2019-01-20 23:00:59.857767\n",
      "11250 2019-01-20 23:08:31.663817\n",
      "11400 2019-01-20 23:15:56.068551\n",
      "11550 2019-01-20 23:23:22.162178\n",
      "11700 2019-01-20 23:30:45.320028\n",
      "11850 2019-01-20 23:38:22.155789\n",
      "12000 2019-01-20 23:45:48.800532\n",
      "12150 2019-01-20 23:53:18.191374\n",
      "12300 2019-01-21 00:00:38.009636\n",
      "12450 2019-01-21 00:08:13.274233\n",
      "12600 2019-01-21 00:15:34.796443\n",
      "12750 2019-01-21 00:23:10.704526\n",
      "12900 2019-01-21 00:30:47.382680\n",
      "13050 2019-01-21 00:38:08.285032\n",
      "13200 2019-01-21 00:45:42.073046\n",
      "13350 2019-01-21 00:53:24.698844\n",
      "13500 2019-01-21 01:00:51.514060\n",
      "13650 2019-01-21 01:08:08.352932\n",
      "13800 2019-01-21 01:15:52.367859\n",
      "13950 2019-01-21 01:24:48.352176\n",
      "14100 2019-01-21 01:34:31.848338\n",
      "14250 2019-01-21 01:43:14.379050\n",
      "14400 2019-01-21 01:50:47.269449\n",
      "14550 2019-01-21 01:58:09.654124\n",
      "14700 2019-01-21 02:05:41.557404\n",
      "14850 2019-01-21 02:13:05.722852\n",
      "15000 2019-01-21 02:20:29.826956\n",
      "15150 2019-01-21 02:31:15.058610\n",
      "15300 2019-01-21 02:39:39.478573\n",
      "15450 2019-01-21 02:48:36.950826\n",
      "15600 2019-01-21 02:56:16.576891\n",
      "15750 2019-01-21 03:03:45.852032\n",
      "15900 2019-01-21 03:11:31.142504\n",
      "16050 2019-01-21 03:19:08.543033\n",
      "16200 2019-01-21 03:26:26.417741\n",
      "16350 2019-01-21 03:33:42.822945\n",
      "16500 2019-01-21 03:41:00.037593\n",
      "16650 2019-01-21 03:48:17.155150\n",
      "16800 2019-01-21 03:55:37.032741\n",
      "16950 2019-01-21 04:02:53.358075\n",
      "17100 2019-01-21 04:11:03.237414\n",
      "17250 2019-01-21 04:18:47.339200\n",
      "17400 2019-01-21 04:25:51.616110\n",
      "17550 2019-01-21 04:33:15.836378\n",
      "17700 2019-01-21 04:40:19.885316\n",
      "17850 2019-01-21 04:47:35.551321\n",
      "18000 2019-01-21 04:54:36.558642\n",
      "18150 2019-01-21 05:01:50.262175\n",
      "18300 2019-01-21 05:08:51.828516\n",
      "18450 2019-01-21 05:16:04.558111\n",
      "18600 2019-01-21 05:23:29.856432\n",
      "18750 2019-01-21 05:33:01.969732\n",
      "18900 2019-01-21 05:40:42.857149\n",
      "19050 2019-01-21 05:47:48.888573\n",
      "19200 2019-01-21 05:55:00.321889\n"
     ]
    }
   ],
   "source": [
    "next_data = get_property_data(property_htmls[15000:])"
   ]
  },
  {
   "cell_type": "code",
   "execution_count": 111,
   "metadata": {},
   "outputs": [
    {
     "data": {
      "text/plain": [
       "19274"
      ]
     },
     "execution_count": 111,
     "metadata": {},
     "output_type": "execute_result"
    }
   ],
   "source": [
    "len(next_data)"
   ]
  },
  {
   "cell_type": "code",
   "execution_count": 112,
   "metadata": {},
   "outputs": [],
   "source": [
    "full_data = full_data + next_data"
   ]
  },
  {
   "cell_type": "code",
   "execution_count": 113,
   "metadata": {},
   "outputs": [
    {
     "data": {
      "text/plain": [
       "34274"
      ]
     },
     "execution_count": 113,
     "metadata": {},
     "output_type": "execute_result"
    }
   ],
   "source": [
    "len(full_data)"
   ]
  },
  {
   "cell_type": "code",
   "execution_count": 114,
   "metadata": {},
   "outputs": [],
   "source": [
    "pd.DataFrame(full_data).to_pickle('full_data.pkl')"
   ]
  },
  {
   "cell_type": "code",
   "execution_count": 115,
   "metadata": {},
   "outputs": [],
   "source": [
    "pd.DataFrame(full_data).to_pickle('full_data.csv')"
   ]
  },
  {
   "cell_type": "code",
   "execution_count": null,
   "metadata": {},
   "outputs": [],
   "source": []
  },
  {
   "cell_type": "code",
   "execution_count": 116,
   "metadata": {},
   "outputs": [],
   "source": [
    "morizon_df = pd.DataFrame(full_data)"
   ]
  },
  {
   "cell_type": "code",
   "execution_count": 119,
   "metadata": {},
   "outputs": [],
   "source": [
    "morizon_df.columns = ['path', 'title_top', 'price_top', 'price_M2', 'area_top', 'rooms_top', \n",
    "                      'script',' table', 'description', 'lat', 'long']"
   ]
  },
  {
   "cell_type": "code",
   "execution_count": 130,
   "metadata": {},
   "outputs": [],
   "source": [
    "morizon_df = morizon_df[morizon_df['price_top'] != 'Zapytaj o cenę']\n",
    "\n",
    "morizon_df.to_csv('morizon_full_data.csv')\n",
    "\n",
    "morizon_df.to_pickle('morizon_full_data.pkl')"
   ]
  },
  {
   "cell_type": "code",
   "execution_count": null,
   "metadata": {},
   "outputs": [],
   "source": []
  },
  {
   "cell_type": "code",
   "execution_count": 2,
   "metadata": {},
   "outputs": [],
   "source": [
    "import pandas as pd"
   ]
  },
  {
   "cell_type": "code",
   "execution_count": 3,
   "metadata": {},
   "outputs": [],
   "source": [
    "morizon = pd.read_pickle('properties_data.pkl') "
   ]
  },
  {
   "cell_type": "code",
   "execution_count": 7,
   "metadata": {},
   "outputs": [],
   "source": [
    "morizon.columns = ['html','title','price_','price_M2_','area_','rooms_','script','details','description']"
   ]
  },
  {
   "cell_type": "code",
   "execution_count": 9,
   "metadata": {},
   "outputs": [],
   "source": [
    "morizon = morizon[morizon.price_ != 'Zapytaj o cenę']"
   ]
  },
  {
   "cell_type": "code",
   "execution_count": 10,
   "metadata": {},
   "outputs": [
    {
     "data": {
      "text/plain": [
       "(28370, 9)"
      ]
     },
     "execution_count": 10,
     "metadata": {},
     "output_type": "execute_result"
    }
   ],
   "source": [
    "morizon.shape"
   ]
  },
  {
   "cell_type": "code",
   "execution_count": 11,
   "metadata": {},
   "outputs": [],
   "source": [
    "new_column = []\n",
    "\n",
    "for i in range(morizon.shape[0]):\n",
    "    \n",
    "    row = morizon['script'].iloc[i].split(',')\n",
    "    \n",
    "    tab = {}\n",
    "    \n",
    "    for elem in row:\n",
    "        \n",
    "        elem = elem.split(':')\n",
    "    \n",
    "        try:\n",
    "            a = elem[0]\n",
    "        except:\n",
    "            a = '\"'\n",
    "            \n",
    "        try:\n",
    "            b = elem[1]\n",
    "        except:\n",
    "            b = '\"'\n",
    "        a = a.replace('\"', \"\")\n",
    "        b = b.replace('\"', \"\")\n",
    "    \n",
    "        tab[a] = b\n",
    "        \n",
    "    \n",
    "    new_column.append(tab)"
   ]
  },
  {
   "cell_type": "code",
   "execution_count": 12,
   "metadata": {},
   "outputs": [
    {
     "data": {
      "text/plain": [
       "28370"
      ]
     },
     "execution_count": 12,
     "metadata": {},
     "output_type": "execute_result"
    }
   ],
   "source": [
    "len(new_column)"
   ]
  },
  {
   "cell_type": "code",
   "execution_count": 13,
   "metadata": {},
   "outputs": [],
   "source": [
    "morizon['scripts'] = new_column"
   ]
  },
  {
   "cell_type": "code",
   "execution_count": 14,
   "metadata": {},
   "outputs": [],
   "source": [
    "from_dict = morizon['scripts'].apply(pd.Series).head()"
   ]
  },
  {
   "cell_type": "code",
   "execution_count": 16,
   "metadata": {},
   "outputs": [],
   "source": [
    "result = pd.concat([morizon, from_dict], axis=1)"
   ]
  },
  {
   "cell_type": "code",
   "execution_count": null,
   "metadata": {
    "collapsed": true
   },
   "outputs": [],
   "source": []
  }
 ],
 "metadata": {
  "kernelspec": {
   "display_name": "Python 3",
   "language": "python",
   "name": "python3"
  },
  "language_info": {
   "codemirror_mode": {
    "name": "ipython",
    "version": 3
   },
   "file_extension": ".py",
   "mimetype": "text/x-python",
   "name": "python",
   "nbconvert_exporter": "python",
   "pygments_lexer": "ipython3",
   "version": "3.7.2"
  }
 },
 "nbformat": 4,
 "nbformat_minor": 2
}
